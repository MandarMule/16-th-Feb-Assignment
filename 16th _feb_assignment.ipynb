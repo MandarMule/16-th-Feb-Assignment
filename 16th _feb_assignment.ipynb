{
 "cells": [
  {
   "cell_type": "code",
   "execution_count": null,
   "id": "b7df8346-9882-4f5b-b9ad-1001a73373b9",
   "metadata": {},
   "outputs": [],
   "source": [
    "Q1. What is a database? Differentiate between SQL and NoSQL databases."
   ]
  },
  {
   "cell_type": "code",
   "execution_count": null,
   "id": "1537f616-7457-45ad-8445-7284ab62b6dc",
   "metadata": {},
   "outputs": [],
   "source": [
    "A database is a structured collection of data that is organized and stored for efficient retrieval, management, and manipulation.\n",
    "SQL is  Structured Query Language and NoSQL is Not Only SQL are two broad categories of database management systems (DBMS) that differ in\n",
    "their data models, architectures, and usage.\n",
    "SQL databases use a structured, tabular format to store data. The data is organized into tables with predefined schemas, where each row \n",
    "represents a record, and each column represents a field of the record.\n",
    "NoSQL databases use a variety of data models to store and retrieve data, including key-value, document, column-family, and graph models.\n",
    "These databases are designed to handle large amounts of unstructured or semi-structured data and can be more flexible in terms of schema \n",
    "evolution."
   ]
  },
  {
   "cell_type": "code",
   "execution_count": null,
   "id": "f0135e07-2cf9-4386-99b1-aaebb2866a2d",
   "metadata": {},
   "outputs": [],
   "source": [
    "Q2. What is DDL? Explain why CREATE, DROP, ALTER, and TRUNCATE are used with an example."
   ]
  },
  {
   "cell_type": "code",
   "execution_count": null,
   "id": "e86197d7-16a7-4964-843a-8e510e3053f2",
   "metadata": {},
   "outputs": [],
   "source": [
    "DDL stands for \"Data Definition Language,\" which is a subset of SQL (Structured Query Language) used to define and manage the structure \n",
    "of a database and its objects. DDL statements are used to create, modify, and delete database objects such as tables, indexes, and \n",
    "constraints.\n",
    "CREATE:\n",
    "The CREATE statement is used to create new database objects, such as tables, indexes, or views.\n",
    "\n",
    "Example: Creating a table named \"Employees\" with columns for employee information\n",
    "DROP:\n",
    "The DROP statement is used to remove existing database objects, such as tables or indexes. This operation permanently deletes the object and its data from the database.\n",
    "\n",
    "Example: Dropping the \"Employees\" table.\n",
    "ALTER:\n",
    "The ALTER statement is used to modify the structure of an existing database object, such as adding, modifying, or deleting columns in a table.\n",
    "\n",
    "Example: Adding a new column \"Salary\" to the \"Employees\" table\n",
    "TRUNCATE:\n",
    "The TRUNCATE statement is used to remove all the data from a table, but it retains the table structure and associated indexes. TRUNCATE is faster than DELETE for removing all records from a table.\n",
    "\n",
    "Example: Truncating the \"Employees\" table to remove all employee records"
   ]
  },
  {
   "cell_type": "code",
   "execution_count": null,
   "id": "e2a43377-a2b0-48cc-a302-fc86ebaa8f1b",
   "metadata": {},
   "outputs": [],
   "source": [
    "Q3. What is DML? Explain INSERT, UPDATE, and DELETE with an example."
   ]
  },
  {
   "cell_type": "code",
   "execution_count": null,
   "id": "db844ac6-f312-435a-b1d9-d98d1d1df023",
   "metadata": {},
   "outputs": [],
   "source": [
    "DML stands for \"Data Manipulation Language,\" which is a subset of SQL (Structured Query Language) used to manipulate data stored in a \n",
    "database. DML statements allow you to insert, update, and delete data within tables.\n",
    "INSERT:\n",
    "The INSERT statement is used to add new records (rows) to a table.\n",
    "\n",
    "Example: Inserting a new employee record into the \"Employees\" table.\n",
    "UPDATE:\n",
    "The UPDATE statement is used to modify existing records in a table.\n",
    "\n",
    "Example: Updating the salary of an employee with the EmployeeID 101.\n",
    "DELETE:\n",
    "The DELETE statement is used to remove records from a table.\n",
    "\n",
    "Example: Deleting an employee record with the EmployeeID 101."
   ]
  },
  {
   "cell_type": "code",
   "execution_count": null,
   "id": "2cc49f5a-2012-4cb2-b161-47df403c9ca0",
   "metadata": {},
   "outputs": [],
   "source": [
    "Q4. What is DQL? Explain SELECT with an example"
   ]
  },
  {
   "cell_type": "code",
   "execution_count": null,
   "id": "c73a3bd8-63d0-4fb8-adfe-80f62898b870",
   "metadata": {},
   "outputs": [],
   "source": [
    "DQL stands for \"Data Query Language,\" which is a subset of SQL (Structured Query Language) used to retrieve and query data from a database.\n",
    "The primary DQL statement is the SELECT statement, which allows you to retrieve specific data from one or more tables based on specified \n",
    "conditions and criteria.\n",
    "SELECT:\n",
    "The SELECT statement is used to retrieve data from one or more tables. It allows you to specify the columns you want to retrieve, the table \n",
    "or tables from which to retrieve data, and optional conditions to filter the results.\n",
    "\n",
    "SELECT FirstName, LastName\n",
    "FROM Employees\n",
    "WHERE Department = 'Sales';\n"
   ]
  },
  {
   "cell_type": "code",
   "execution_count": null,
   "id": "00e4ef66-f5cd-4543-b342-17c96d329dab",
   "metadata": {},
   "outputs": [],
   "source": [
    "Q5.Explain Primary Key and Foreign Key."
   ]
  },
  {
   "cell_type": "code",
   "execution_count": null,
   "id": "0c42af95-28ba-408d-9949-4e6b6701db94",
   "metadata": {},
   "outputs": [],
   "source": [
    "Primary Key:\n",
    "A primary key is a field or combination of fields in a database table that uniquely identifies each record (row) in that table. \n",
    "It serves as a way to ensure data integrity, enforce uniqueness, and establish relationships between tables. A primary key constraint\n",
    "ensures that the values in the primary key column(s) are unique and not null.\n",
    "Foreign Key:\n",
    "A foreign key is a field in a database table that establishes a link between the data in two tables. It creates a relationship between the \n",
    "tables based on the values of the foreign key column and the corresponding primary key column in another table. Foreign keys are used to \n",
    "maintain referential integrity, ensuring that the relationships between records in different tables remain consistent."
   ]
  },
  {
   "cell_type": "code",
   "execution_count": null,
   "id": "bdbb6548-93fd-43a4-8e08-2b9c442743e2",
   "metadata": {},
   "outputs": [],
   "source": [
    "Q6. Write a python code to connect MySQL to python. Explain the cursor() and execute() method."
   ]
  },
  {
   "cell_type": "code",
   "execution_count": null,
   "id": "871a9607-ce58-409c-a788-fc191b5f8a50",
   "metadata": {},
   "outputs": [],
   "source": [
    "import mysql.connector\n",
    "mydb=mysql.connector.connect(\n",
    "    host=\"Local User\",\n",
    "    user =\"abc\",\n",
    "    password=\"password\"\n",
    ")\n",
    "mycursor=mydb.cursor()\n",
    "mycursor.execute(\"SHOW DATAVASES\")\n",
    "\n",
    "The cursor() method creates a cursor instance, which you can use to interact with the database. The execute() method is used to execute SQL \n",
    "queries using the cursor. You pass the SQL query string to the execute() method, and it performs the query on the connected database"
   ]
  },
  {
   "cell_type": "code",
   "execution_count": null,
   "id": "5acd869c-61b2-44bd-9306-1721bbe9bd43",
   "metadata": {},
   "outputs": [],
   "source": [
    "Q7. Give the order of execution of SQL clauses in an SQL query."
   ]
  },
  {
   "cell_type": "code",
   "execution_count": null,
   "id": "1a67846a-15cc-441b-b59d-38c3f9ec0cf2",
   "metadata": {},
   "outputs": [],
   "source": [
    "SELECT FirstName, LastName\n",
    "FROM Employees\n",
    "WHERE Department = 'Sales'\n",
    "ORDER BY LastName ASC\n",
    "LIMIT 10;\n",
    "\n",
    "SELECT: Columns \"FirstName\" and \"LastName\" are selected.\n",
    "FROM: Data is retrieved from the \"Employees\" table.\n",
    "WHERE: Only rows where the \"Department\" column is 'Sales' are included.\n",
    "ORDER BY: The result set is sorted by the \"LastName\" column in ascending order.\n",
    "LIMIT: Only the first 10 rows are returned in the final result set.\n",
    "\n",
    "\n",
    "\n",
    "\n"
   ]
  }
 ],
 "metadata": {
  "kernelspec": {
   "display_name": "Python 3 (ipykernel)",
   "language": "python",
   "name": "python3"
  },
  "language_info": {
   "codemirror_mode": {
    "name": "ipython",
    "version": 3
   },
   "file_extension": ".py",
   "mimetype": "text/x-python",
   "name": "python",
   "nbconvert_exporter": "python",
   "pygments_lexer": "ipython3",
   "version": "3.10.8"
  }
 },
 "nbformat": 4,
 "nbformat_minor": 5
}
